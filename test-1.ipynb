{
 "metadata": {
  "language_info": {
   "codemirror_mode": {
    "name": "ipython",
    "version": 3
   },
   "file_extension": ".py",
   "mimetype": "text/x-python",
   "name": "python",
   "nbconvert_exporter": "python",
   "pygments_lexer": "ipython3",
   "version": "3.8.5"
  },
  "orig_nbformat": 2,
  "kernelspec": {
   "name": "python385jvsc74a57bd0048f1fa9a33d9a89442c8aba85d23c95ec4be7278da4853ec993d63bd37cc981",
   "display_name": "Python 3.8.5 64-bit ('base': conda)"
  }
 },
 "nbformat": 4,
 "nbformat_minor": 2,
 "cells": [
  {
   "cell_type": "code",
   "execution_count": 1,
   "metadata": {},
   "outputs": [],
   "source": [
    "import pandas as pd"
   ]
  },
  {
   "cell_type": "code",
   "execution_count": 2,
   "metadata": {},
   "outputs": [],
   "source": [
    "data = pd.read_csv(\"test.csv\")"
   ]
  },
  {
   "cell_type": "code",
   "execution_count": 3,
   "metadata": {},
   "outputs": [
    {
     "output_type": "execute_result",
     "data": {
      "text/plain": [
       "   tradeID active ticker  strike type  cost       date  delta   exp_date  dte\n",
       "0        1      Y   AAPL     125    P  1.30   5/1/2021     50  22/1/2021   17\n",
       "1        2      N   GOOG     200    P  2.30   5/1/2021     48  22/1/2021   17\n",
       "2        3      Y    SPY     350    P  0.70  10/1/2021     30  22/1/2021   12\n",
       "3        2      N   GOOG     200    P -0.05  21/1/2021     12  22/1/2021    1"
      ],
      "text/html": "<div>\n<style scoped>\n    .dataframe tbody tr th:only-of-type {\n        vertical-align: middle;\n    }\n\n    .dataframe tbody tr th {\n        vertical-align: top;\n    }\n\n    .dataframe thead th {\n        text-align: right;\n    }\n</style>\n<table border=\"1\" class=\"dataframe\">\n  <thead>\n    <tr style=\"text-align: right;\">\n      <th></th>\n      <th>tradeID</th>\n      <th>active</th>\n      <th>ticker</th>\n      <th>strike</th>\n      <th>type</th>\n      <th>cost</th>\n      <th>date</th>\n      <th>delta</th>\n      <th>exp_date</th>\n      <th>dte</th>\n    </tr>\n  </thead>\n  <tbody>\n    <tr>\n      <th>0</th>\n      <td>1</td>\n      <td>Y</td>\n      <td>AAPL</td>\n      <td>125</td>\n      <td>P</td>\n      <td>1.30</td>\n      <td>5/1/2021</td>\n      <td>50</td>\n      <td>22/1/2021</td>\n      <td>17</td>\n    </tr>\n    <tr>\n      <th>1</th>\n      <td>2</td>\n      <td>N</td>\n      <td>GOOG</td>\n      <td>200</td>\n      <td>P</td>\n      <td>2.30</td>\n      <td>5/1/2021</td>\n      <td>48</td>\n      <td>22/1/2021</td>\n      <td>17</td>\n    </tr>\n    <tr>\n      <th>2</th>\n      <td>3</td>\n      <td>Y</td>\n      <td>SPY</td>\n      <td>350</td>\n      <td>P</td>\n      <td>0.70</td>\n      <td>10/1/2021</td>\n      <td>30</td>\n      <td>22/1/2021</td>\n      <td>12</td>\n    </tr>\n    <tr>\n      <th>3</th>\n      <td>2</td>\n      <td>N</td>\n      <td>GOOG</td>\n      <td>200</td>\n      <td>P</td>\n      <td>-0.05</td>\n      <td>21/1/2021</td>\n      <td>12</td>\n      <td>22/1/2021</td>\n      <td>1</td>\n    </tr>\n  </tbody>\n</table>\n</div>"
     },
     "metadata": {},
     "execution_count": 3
    }
   ],
   "source": [
    "data"
   ]
  },
  {
   "cell_type": "code",
   "execution_count": 38,
   "metadata": {},
   "outputs": [
    {
     "output_type": "execute_result",
     "data": {
      "text/plain": [
       "   tradeID active ticker  strike type  cost       date  delta   exp_date  dte\n",
       "0        1      Y   AAPL     125    P   1.3   5/1/2021     50  22/1/2021   17\n",
       "2        3      Y    SPY     350    P   0.7  10/1/2021     30  22/1/2021   12"
      ],
      "text/html": "<div>\n<style scoped>\n    .dataframe tbody tr th:only-of-type {\n        vertical-align: middle;\n    }\n\n    .dataframe tbody tr th {\n        vertical-align: top;\n    }\n\n    .dataframe thead th {\n        text-align: right;\n    }\n</style>\n<table border=\"1\" class=\"dataframe\">\n  <thead>\n    <tr style=\"text-align: right;\">\n      <th></th>\n      <th>tradeID</th>\n      <th>active</th>\n      <th>ticker</th>\n      <th>strike</th>\n      <th>type</th>\n      <th>cost</th>\n      <th>date</th>\n      <th>delta</th>\n      <th>exp_date</th>\n      <th>dte</th>\n    </tr>\n  </thead>\n  <tbody>\n    <tr>\n      <th>0</th>\n      <td>1</td>\n      <td>Y</td>\n      <td>AAPL</td>\n      <td>125</td>\n      <td>P</td>\n      <td>1.3</td>\n      <td>5/1/2021</td>\n      <td>50</td>\n      <td>22/1/2021</td>\n      <td>17</td>\n    </tr>\n    <tr>\n      <th>2</th>\n      <td>3</td>\n      <td>Y</td>\n      <td>SPY</td>\n      <td>350</td>\n      <td>P</td>\n      <td>0.7</td>\n      <td>10/1/2021</td>\n      <td>30</td>\n      <td>22/1/2021</td>\n      <td>12</td>\n    </tr>\n  </tbody>\n</table>\n</div>"
     },
     "metadata": {},
     "execution_count": 38
    }
   ],
   "source": [
    "data[data[\"active\"] == \"Y\"]"
   ]
  },
  {
   "cell_type": "code",
   "execution_count": 36,
   "metadata": {},
   "outputs": [],
   "source": [
    "x = [{ \"label\" : data.ticker[i], \"value\" : data.tradeID[i] } for i in range(len(data))]"
   ]
  },
  {
   "cell_type": "code",
   "execution_count": 39,
   "metadata": {},
   "outputs": [
    {
     "output_type": "stream",
     "name": "stdout",
     "text": [
      "tradeID\nactive\nticker\nstrike\ntype\ncost\ndate\ndelta\nexp_date\ndte\n"
     ]
    }
   ],
   "source": [
    "for rows in data:\n",
    "    print(rows)"
   ]
  },
  {
   "cell_type": "code",
   "execution_count": 1,
   "metadata": {},
   "outputs": [],
   "source": [
    "first = \"Zach\""
   ]
  },
  {
   "cell_type": "code",
   "execution_count": 10,
   "metadata": {},
   "outputs": [],
   "source": [
    "if (any(x.isupper() for x in first) and any(x.islower() for x in first) and (first[-1].isdigit() == True)):\n",
    "    check = True\n",
    "else:\n",
    "    check = False"
   ]
  },
  {
   "cell_type": "code",
   "execution_count": 11,
   "metadata": {},
   "outputs": [
    {
     "output_type": "execute_result",
     "data": {
      "text/plain": [
       "False"
      ]
     },
     "metadata": {},
     "execution_count": 11
    }
   ],
   "source": [
    "check"
   ]
  },
  {
   "cell_type": "code",
   "execution_count": null,
   "metadata": {},
   "outputs": [],
   "source": []
  }
 ]
}