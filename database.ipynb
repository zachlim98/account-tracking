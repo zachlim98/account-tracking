{
 "metadata": {
  "language_info": {
   "codemirror_mode": {
    "name": "ipython",
    "version": 3
   },
   "file_extension": ".py",
   "mimetype": "text/x-python",
   "name": "python",
   "nbconvert_exporter": "python",
   "pygments_lexer": "ipython3",
   "version": "3.8.5"
  },
  "orig_nbformat": 2,
  "kernelspec": {
   "name": "python385jvsc74a57bd0048f1fa9a33d9a89442c8aba85d23c95ec4be7278da4853ec993d63bd37cc981",
   "display_name": "Python 3.8.5 64-bit ('base': conda)"
  }
 },
 "nbformat": 4,
 "nbformat_minor": 2,
 "cells": [
  {
   "cell_type": "code",
   "execution_count": 1,
   "metadata": {},
   "outputs": [],
   "source": [
    "import pandas as pd\n",
    "import sqlite3 as sl\n",
    "import uuid\n",
    "import datetime as dt"
   ]
  },
  {
   "cell_type": "code",
   "execution_count": 11,
   "metadata": {},
   "outputs": [
    {
     "output_type": "execute_result",
     "data": {
      "text/plain": [
       "UUID('a395e2e4-f3f5-4f20-8046-a189bcd8a27e')"
      ]
     },
     "metadata": {},
     "execution_count": 11
    }
   ],
   "source": [
    "uuid.uuid4()"
   ]
  },
  {
   "cell_type": "code",
   "execution_count": 12,
   "metadata": {},
   "outputs": [],
   "source": [
    "con = sl.connect(\"mydata.db\")"
   ]
  },
  {
   "cell_type": "code",
   "execution_count": 33,
   "metadata": {},
   "outputs": [
    {
     "output_type": "execute_result",
     "data": {
      "text/plain": [
       "<sqlite3.Cursor at 0x12ed5900810>"
      ]
     },
     "metadata": {},
     "execution_count": 33
    }
   ],
   "source": [
    "con.execute(\"DROP TABLE TRADE_MAIN\")\n",
    "\n",
    "con.execute(\"\"\"\n",
    "    CREATE TABLE TRADE_MAIN(\n",
    "        id INTEGER PRIMARY KEY,\n",
    "        trade_group_id TEXT,\n",
    "        entry_date REAL,\n",
    "        ticker TEXT,\n",
    "        stk1 REAL,\n",
    "        stk1_type INTEGER,\n",
    "        stk1_exp REAL,\n",
    "        stk2 REAL,\n",
    "        stk2_type INTEGER,\n",
    "        stk2_exp REAL,\n",
    "        stk3 REAL,\n",
    "        stk3_type INTEGER,\n",
    "        stk3_exp REAL,\n",
    "        stk4 REAL,\n",
    "        stk4_type INTEGER,\n",
    "        stk4_exp REAL,\n",
    "        cost REAL,\n",
    "        trdprice REAL,\n",
    "        BRP REAL,\n",
    "        strategy REAL\n",
    "    )\n",
    "\"\"\")"
   ]
  },
  {
   "cell_type": "code",
   "execution_count": 3,
   "metadata": {},
   "outputs": [
    {
     "output_type": "execute_result",
     "data": {
      "text/plain": [
       "<sqlite3.Cursor at 0x1eb58453f80>"
      ]
     },
     "metadata": {},
     "execution_count": 3
    }
   ],
   "source": [
    "# con.execute(\"DROP TABLE TRADE_SUMMARY\")\n",
    "\n",
    "con.execute(\"\"\"\n",
    "    CREATE TABLE TRADE_SUMMARY(\n",
    "        id INTEGER PRIMARY KEY,\n",
    "        entry_date REAL,\n",
    "        exit_date REAL,\n",
    "        trade_length INTEGER,\n",
    "        ticker TEXT,\n",
    "        stk_width REAL,\n",
    "        pnl REAL,\n",
    "        strategy TEXT\n",
    "    )\n",
    "\"\"\")"
   ]
  },
  {
   "cell_type": "code",
   "execution_count": 15,
   "metadata": {},
   "outputs": [
    {
     "output_type": "execute_result",
     "data": {
      "text/plain": [
       "<sqlite3.Cursor at 0x12ed5ad5b20>"
      ]
     },
     "metadata": {},
     "execution_count": 15
    }
   ],
   "source": [
    "con.execute(\"DROP TABLE TRADE_HIST\")\n",
    "\n",
    "con.execute(\"\"\"\n",
    "    CREATE TABLE TRADE_HIST(\n",
    "        id INTEGER PRIMARY KEY,\n",
    "        trade_group_id TEXT,\n",
    "        entry_date REAL,\n",
    "        ticker TEXT,\n",
    "        stk1 REAL,\n",
    "        stk1_type INTEGER,\n",
    "        stk1_exp REAL,\n",
    "        stk2 REAL,\n",
    "        stk2_type INTEGER,\n",
    "        stk2_exp REAL,\n",
    "        stk3 REAL,\n",
    "        stk3_type INTEGER,\n",
    "        stk3_exp REAL,\n",
    "        stk4 REAL,\n",
    "        stk4_type INTEGER,\n",
    "        stk4_exp REAL,\n",
    "        cost REAL,\n",
    "        trdprice REAL,\n",
    "        BRP REAL,\n",
    "        strategy REAL\n",
    "    )\n",
    "\"\"\")"
   ]
  },
  {
   "cell_type": "code",
   "execution_count": 9,
   "metadata": {},
   "outputs": [],
   "source": [
    "def enter(new_entryl):\n",
    "    sql = \"\"\"\n",
    "        INSERT INTO TRADE_MAIN(\n",
    "        trade_group_id, \n",
    "        entry_date,\n",
    "        ticker,\n",
    "        stk1 ,\n",
    "        stk1_type,\n",
    "        stk1_exp,\n",
    "        stk2,\n",
    "        stk2_type,\n",
    "        stk2_exp,\n",
    "        cost,\n",
    "        trdprice,\n",
    "        BRP \n",
    "        ) VALUES (?, julianday(?),?,?,?,julianday(?),?,?,julianday(?),?,?,?)\n",
    "\n",
    "    \"\"\"\n",
    "    with con:\n",
    "        con.executemany(sql,new_entryl)"
   ]
  },
  {
   "cell_type": "code",
   "execution_count": 10,
   "metadata": {},
   "outputs": [],
   "source": [
    "def get_stats(uuid):\n",
    "    data = con.execute(f\"\"\"\n",
    "    SELECT ticker, date(entry_date), sum(trdprice), sum(cost), stk1, stk2 FROM TRADE_MAIN\n",
    "    GROUP BY trade_group_id = '{uuid}'\n",
    "\"\"\")\n",
    "\n",
    "    for i in data:\n",
    "        ticker = i[0]\n",
    "        exp_date = dt.datetime.strptime(i[1], '%Y-%m-%d').date()\n",
    "        dte = (exp_date - dt.date.today()).days\n",
    "        bes = round(i[-1] - i[2],1)\n",
    "        bem = i[2]\n",
    "        bema = round(i[3]/100,2)\n",
    "        m50 = round(i[2]/2,2)\n",
    "        cost = round(i[-3],2)\n",
    "        print(ticker, dte, bes, bem, bema, m50, cost)"
   ]
  },
  {
   "cell_type": "code",
   "execution_count": 11,
   "metadata": {},
   "outputs": [],
   "source": [
    "def create_new_entry(entry_date, ticker, stk1, s1t, s1e, stk2, s2t, s2e, cost, trdprice):\n",
    "    entry = [\n",
    "        (str(uuid.uuid4()), entry_date, ticker, stk1, s1t, s1e, stk2, s2t, s2e, cost, trdprice, (((stk2-stk1)*100)-cost))\n",
    "    ]\n",
    "\n",
    "    return entry"
   ]
  },
  {
   "cell_type": "code",
   "execution_count": 12,
   "metadata": {},
   "outputs": [],
   "source": [
    "def update_trade(uuid, entry_date, ticker, stk1, s1t, s1e, stk2, s2t, s2e, cost, trdprice):\n",
    "    \"\"\"\n",
    "    This function is to help you prepare trade information in the right format for writing to the database\n",
    "    \"\"\"\n",
    "    entry = [\n",
    "    (uuid, entry_date, ticker, stk1, s1t, s1e, stk2, s2t, s2e, cost, trdprice, (((stk2-stk1)*100)-cost))\n",
    "]\n",
    "    return entry"
   ]
  },
  {
   "cell_type": "code",
   "execution_count": null,
   "metadata": {},
   "outputs": [],
   "source": [
    "records = [(1, 'Glen', 8),\n",
    "\t\t\t(2, 'Elliot', 9),\n",
    "\t\t\t(3, 'Bob', 7)]\n"
   ]
  },
  {
   "cell_type": "code",
   "execution_count": null,
   "metadata": {},
   "outputs": [],
   "source": []
  },
  {
   "cell_type": "code",
   "execution_count": 13,
   "metadata": {},
   "outputs": [],
   "source": [
    "def close(close_entry):\n",
    "\n",
    "    uuid = close_entry[0][0]\n",
    "\n",
    "    sql = \"\"\"\n",
    "        INSERT INTO TRADE_MAIN(\n",
    "        trade_group_id, \n",
    "        entry_date,\n",
    "        ticker,\n",
    "        stk1 ,\n",
    "        stk1_type,\n",
    "        stk1_exp,\n",
    "        stk2,\n",
    "        stk2_type,\n",
    "        stk2_exp,\n",
    "        cost,\n",
    "        trdprice,\n",
    "        BRP \n",
    "        ) VALUES (?, julianday(?),?,?,?,julianday(?),?,?,julianday(?),?,?,?)\n",
    "\n",
    "    \"\"\"\n",
    "    with con:\n",
    "        con.executemany(sql,close_entry)\n",
    "\n",
    "    data = con.execute(f\"\"\"\n",
    "    SELECT ticker, max(date(entry_date)), min(date(entry_date)), sum(trdprice), sum(cost), min(stk1), stk2 FROM TRADE_MAIN\n",
    "    WHERE trade_group_id = '{uuid}'\n",
    "    \"\"\")\n",
    "\n",
    "    for i in data:\n",
    "        ticker = i[0]\n",
    "        exit_date = str(i[1])\n",
    "        entry_date = str(i[2])\n",
    "        days_in_trade = (dt.datetime.strptime(exit_date, '%Y-%m-%d').date() - dt.datetime.strptime(entry_date, '%Y-%m-%d').date()).days\n",
    "        pnl = round(i[4],2)\n",
    "        stk_width = i[-1] - i[-2]\n",
    "\n",
    "    update_close = [(entry_date, exit_date, days_in_trade,ticker,stk_width,pnl)]\n",
    "\n",
    "    sql2 = \"\"\"\n",
    "        INSERT INTO TRADE_SUMMARY( \n",
    "        entry_date,\n",
    "        exit_date,\n",
    "        trade_length,\n",
    "        ticker,\n",
    "        stk_width,\n",
    "        pnl\n",
    "        ) VALUES (julianday(?),julianday(?),?,?,?,?)\n",
    "    \"\"\"\n",
    "     \n",
    "    sql3 = f\"\"\"\n",
    "\n",
    "    INSERT INTO TRADE_HIST \n",
    "    SELECT * FROM TRADE_MAIN\n",
    "    WHERE trade_group_id = '{uuid}'\n",
    "\n",
    "    \"\"\"\n",
    "\n",
    "    sql4 = f\"\"\"\n",
    "\n",
    "        DELETE FROM TRADE_MAIN\n",
    "        WHERE trade_group_id = '{uuid}'\n",
    "\n",
    "    \"\"\"\n",
    "\n",
    "    with con:\n",
    "        con.executemany(sql2, update_close)\n",
    "        con.execute(sql3)\n",
    "        con.execute(sql4)"
   ]
  },
  {
   "cell_type": "code",
   "execution_count": 11,
   "metadata": {},
   "outputs": [],
   "source": [
    "entry1 = create_new_entry(\"2021-02-09\", \"AAPL\", 127.5, 0, \"2021-03-19\", 130, 0, \"2021-03-19\", 73.75, 0.80)\n",
    "entry2 = create_new_entry(\"2021-02-03\", \"SQ\", 210, 0, \"2021-03-19\", 212.5, 0, \"2021-03-19\", 78.75, 0.80)"
   ]
  },
  {
   "cell_type": "code",
   "execution_count": 12,
   "metadata": {},
   "outputs": [],
   "source": [
    "enter(entry1)\n",
    "enter(entry2)"
   ]
  },
  {
   "cell_type": "code",
   "execution_count": 15,
   "metadata": {},
   "outputs": [
    {
     "output_type": "stream",
     "name": "stdout",
     "text": [
      "AAPL -67 128.4 1.6 1.52 0.8 152.5\n"
     ]
    }
   ],
   "source": [
    "get_stats('b48e3425-bde7-4485-b1df-d03f1609be5a')"
   ]
  },
  {
   "cell_type": "code",
   "execution_count": 16,
   "metadata": {},
   "outputs": [],
   "source": [
    "roll1 = update_trade('b48e3425-bde7-4485-b1df-d03f1609be5a', \"2021-02-24\", \"AAPL\", 127.5, 0, \"2021-03-26\", 130, 0 , \"2021-03-26\", 34.12, 0.37)\n",
    "roll2 = update_trade('b48e3425-bde7-4485-b1df-d03f1609be5a', \"2021-03-16\", \"AAPL\", 120.0, 0, \"2021-05-21\", 125.0, 0 ,\"2021-05-21\", 7.16, 0.10)\n",
    "roll3 = update_trade('b48e3425-bde7-4485-b1df-d03f1609be5a', \"2021-04-09\", \"AAPL\", 120.0, 0, \"2021-05-21\", 125.0, 0 ,\"2021-05-21\", -110.42, 1.11)"
   ]
  },
  {
   "cell_type": "code",
   "execution_count": 4,
   "metadata": {},
   "outputs": [],
   "source": [
    "data = con.execute(\"\"\"\n",
    "    SELECT * FROM TRADE_MAIN\n",
    "\"\"\")\n",
    "\n",
    "options = []\n",
    "\n",
    "for i in data:\n",
    "    options.append({'label':i[3], 'value':i[1]})"
   ]
  },
  {
   "cell_type": "code",
   "execution_count": 16,
   "metadata": {},
   "outputs": [],
   "source": [
    "def update_trade(uuid, entry_date, ticker, stk1, s1t, s1e, stk2, s2t, s2e, cost, trdprice, strategy):\n",
    "    \"\"\"\n",
    "    This function is to help you prepare trade information in the right format for writing to the database\n",
    "    \"\"\"\n",
    "    entry = [\n",
    "    (uuid, entry_date, ticker, stk1, s1t, s1e, stk2, s2t, s2e, cost, trdprice, (((stk2-stk1)*100)-cost), strategy)\n",
    "]\n",
    "    return entry\n",
    "\n",
    "\n",
    "# function for entering trade\n",
    "def enter(dbcon, new_entryl):\n",
    "    \"\"\"\n",
    "    This function directly enters the information into the database\n",
    "    \"\"\"\n",
    "    sql = \"\"\"\n",
    "        INSERT INTO TRADE_MAIN(\n",
    "        trade_group_id, \n",
    "        entry_date,\n",
    "        ticker,\n",
    "        stk1 ,\n",
    "        stk1_type,\n",
    "        stk1_exp,\n",
    "        stk2,\n",
    "        stk2_type,\n",
    "        stk2_exp,\n",
    "        stk3 ,\n",
    "        stk3_type,\n",
    "        stk3_exp,\n",
    "        stk4,\n",
    "        stk4_type,\n",
    "        stk4_exp,\n",
    "        cost,\n",
    "        trdprice,\n",
    "        BRP,\n",
    "        strategy\n",
    "        ) VALUES (?, julianday(?),?,?,?,julianday(?),?,?,julianday(?),?,?,julianday(?),?,?,julianday(?),?,?,?,?)\n",
    "\n",
    "    \"\"\"\n",
    "    with dbcon:\n",
    "        dbcon.executemany(sql,new_entryl)"
   ]
  },
  {
   "cell_type": "code",
   "execution_count": 34,
   "metadata": {},
   "outputs": [],
   "source": [
    "clean = pd.read_csv(\"opentrades.csv\").drop(\"id\", axis=1)"
   ]
  },
  {
   "cell_type": "code",
   "execution_count": 35,
   "metadata": {},
   "outputs": [],
   "source": [
    "insertion = list(clean.itertuples(index=False, name=None))"
   ]
  },
  {
   "cell_type": "code",
   "execution_count": 36,
   "metadata": {},
   "outputs": [],
   "source": [
    "enter(con, insertion)"
   ]
  },
  {
   "cell_type": "code",
   "execution_count": 6,
   "metadata": {},
   "outputs": [],
   "source": [
    "sql = \"\"\"\n",
    "    INSERT INTO TRADE_SUMMARY( \n",
    "    entry_date,\n",
    "    exit_date,\n",
    "    trade_length,\n",
    "    ticker,\n",
    "    stk_width,\n",
    "    pnl,\n",
    "    strategy\n",
    "    ) VALUES (julianday(?),julianday(?),?,?,?,?,?)\n",
    "\n",
    "\"\"\""
   ]
  },
  {
   "cell_type": "code",
   "execution_count": 7,
   "metadata": {},
   "outputs": [],
   "source": [
    "with con:\n",
    "    con.executemany(sql, insertion)"
   ]
  },
  {
   "cell_type": "code",
   "execution_count": 35,
   "metadata": {},
   "outputs": [],
   "source": [
    "import plotly.express as px\n",
    "import datetime\n",
    "import julian\n",
    "import numpy as np"
   ]
  },
  {
   "cell_type": "code",
   "execution_count": 42,
   "metadata": {},
   "outputs": [],
   "source": [
    "sql  = \"\"\"\n",
    "\n",
    "SELECT julianday(exit_date), pnl FROM TRADE_SUMMARY ORDER BY exit_date\n",
    "\n",
    "\"\"\""
   ]
  },
  {
   "cell_type": "code",
   "execution_count": 43,
   "metadata": {},
   "outputs": [],
   "source": [
    "data = con.execute(sql)\n",
    "\n",
    "dates = []\n",
    "pnl = []\n",
    "\n",
    "for i in data:\n",
    "    dates.append(julian.from_jd(i[0], fmt='jd').date())\n",
    "    pnl.append(i[1])"
   ]
  },
  {
   "cell_type": "code",
   "execution_count": 59,
   "metadata": {},
   "outputs": [],
   "source": [
    "data2 = con.execute(f\"\"\"\n",
    "    SELECT ticker, date(entry_date), sum(trdprice), sum(cost), stk1, stk2 FROM TRADE_MAIN\n",
    "    GROUP BY trade_group_id\n",
    "\"\"\")\n",
    "\n",
    "ticker = []\n",
    "start_date = []\n",
    "be_price = []\n",
    "cost = []\n",
    "stk1 = []\n",
    "stk2 = []\n",
    "be50 = []\n",
    "\n",
    "for i in data2:\n",
    "    ticker.append(i[0])\n",
    "    start_date.append(i[1])\n",
    "    cost.append(round(i[3]/100,2))\n",
    "    be50.append(round(i[3]/100/2,2))\n",
    "    stk1.append(i[4])\n",
    "    stk2.append(i[5])\n",
    "    be_price.append(int(i[-2])-round(i[3]/100,2))\n",
    "\n",
    "trade_overview = pd.DataFrame({\n",
    "    \"ticker\": ticker,\n",
    "    \"date\": start_date,\n",
    "    \"Breakeven\" : cost,\n",
    "    \"Breakeven 50\" : be50,\n",
    "    # \"Strike 1\" : stk1,\n",
    "    # \"Strike 2\" : stk2,\n",
    "    \"Breakeven Stock Price\" : be_price\n",
    "})"
   ]
  },
  {
   "cell_type": "code",
   "execution_count": 60,
   "metadata": {},
   "outputs": [
    {
     "output_type": "execute_result",
     "data": {
      "text/plain": [
       "  ticker        date  Breakeven  Breakeven 50  Breakeven Stock Price\n",
       "0   RIDE  2021-04-19       1.32          0.66                   7.68\n",
       "1    JPM  2021-03-29       1.24          0.62                 138.76\n",
       "2    DIS  2021-03-29       1.31          0.66                 168.69\n",
       "3    QQQ  2021-03-09       0.36          0.18                 335.64\n",
       "4    NOK  2021-01-27      -1.51         -0.76                  11.51\n",
       "5     QS  2021-04-07       1.26          0.63                  33.74\n",
       "6   ARKF  2021-03-09     -15.18         -7.59                  60.18\n",
       "7    AMD  2020-10-12     -17.56         -8.78                  97.56"
      ],
      "text/html": "<div>\n<style scoped>\n    .dataframe tbody tr th:only-of-type {\n        vertical-align: middle;\n    }\n\n    .dataframe tbody tr th {\n        vertical-align: top;\n    }\n\n    .dataframe thead th {\n        text-align: right;\n    }\n</style>\n<table border=\"1\" class=\"dataframe\">\n  <thead>\n    <tr style=\"text-align: right;\">\n      <th></th>\n      <th>ticker</th>\n      <th>date</th>\n      <th>Breakeven</th>\n      <th>Breakeven 50</th>\n      <th>Breakeven Stock Price</th>\n    </tr>\n  </thead>\n  <tbody>\n    <tr>\n      <th>0</th>\n      <td>RIDE</td>\n      <td>2021-04-19</td>\n      <td>1.32</td>\n      <td>0.66</td>\n      <td>7.68</td>\n    </tr>\n    <tr>\n      <th>1</th>\n      <td>JPM</td>\n      <td>2021-03-29</td>\n      <td>1.24</td>\n      <td>0.62</td>\n      <td>138.76</td>\n    </tr>\n    <tr>\n      <th>2</th>\n      <td>DIS</td>\n      <td>2021-03-29</td>\n      <td>1.31</td>\n      <td>0.66</td>\n      <td>168.69</td>\n    </tr>\n    <tr>\n      <th>3</th>\n      <td>QQQ</td>\n      <td>2021-03-09</td>\n      <td>0.36</td>\n      <td>0.18</td>\n      <td>335.64</td>\n    </tr>\n    <tr>\n      <th>4</th>\n      <td>NOK</td>\n      <td>2021-01-27</td>\n      <td>-1.51</td>\n      <td>-0.76</td>\n      <td>11.51</td>\n    </tr>\n    <tr>\n      <th>5</th>\n      <td>QS</td>\n      <td>2021-04-07</td>\n      <td>1.26</td>\n      <td>0.63</td>\n      <td>33.74</td>\n    </tr>\n    <tr>\n      <th>6</th>\n      <td>ARKF</td>\n      <td>2021-03-09</td>\n      <td>-15.18</td>\n      <td>-7.59</td>\n      <td>60.18</td>\n    </tr>\n    <tr>\n      <th>7</th>\n      <td>AMD</td>\n      <td>2020-10-12</td>\n      <td>-17.56</td>\n      <td>-8.78</td>\n      <td>97.56</td>\n    </tr>\n  </tbody>\n</table>\n</div>"
     },
     "metadata": {},
     "execution_count": 60
    }
   ],
   "source": [
    "trade_overview"
   ]
  },
  {
   "cell_type": "code",
   "execution_count": null,
   "metadata": {},
   "outputs": [],
   "source": []
  }
 ]
}