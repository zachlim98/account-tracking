{
 "metadata": {
  "language_info": {
   "codemirror_mode": {
    "name": "ipython",
    "version": 3
   },
   "file_extension": ".py",
   "mimetype": "text/x-python",
   "name": "python",
   "nbconvert_exporter": "python",
   "pygments_lexer": "ipython3",
   "version": "3.8.5"
  },
  "orig_nbformat": 2,
  "kernelspec": {
   "name": "python385jvsc74a57bd0048f1fa9a33d9a89442c8aba85d23c95ec4be7278da4853ec993d63bd37cc981",
   "display_name": "Python 3.8.5 64-bit ('base': conda)"
  }
 },
 "nbformat": 4,
 "nbformat_minor": 2,
 "cells": [
  {
   "cell_type": "code",
   "execution_count": 1,
   "metadata": {},
   "outputs": [],
   "source": [
    "import pandas as pd\n",
    "import sqlite3 as sl\n",
    "import uuid\n",
    "import datetime as dt"
   ]
  },
  {
   "cell_type": "code",
   "execution_count": 11,
   "metadata": {},
   "outputs": [
    {
     "output_type": "execute_result",
     "data": {
      "text/plain": [
       "UUID('a395e2e4-f3f5-4f20-8046-a189bcd8a27e')"
      ]
     },
     "metadata": {},
     "execution_count": 11
    }
   ],
   "source": [
    "uuid.uuid4()"
   ]
  },
  {
   "cell_type": "code",
   "execution_count": 2,
   "metadata": {},
   "outputs": [],
   "source": [
    "con = sl.connect(\"mydata.db\")"
   ]
  },
  {
   "cell_type": "code",
   "execution_count": 33,
   "metadata": {},
   "outputs": [
    {
     "output_type": "execute_result",
     "data": {
      "text/plain": [
       "<sqlite3.Cursor at 0x12ed5900810>"
      ]
     },
     "metadata": {},
     "execution_count": 33
    }
   ],
   "source": [
    "con.execute(\"DROP TABLE TRADE_MAIN\")\n",
    "\n",
    "con.execute(\"\"\"\n",
    "    CREATE TABLE TRADE_MAIN(\n",
    "        id INTEGER PRIMARY KEY,\n",
    "        trade_group_id TEXT,\n",
    "        entry_date REAL,\n",
    "        ticker TEXT,\n",
    "        stk1 REAL,\n",
    "        stk1_type INTEGER,\n",
    "        stk1_exp REAL,\n",
    "        stk2 REAL,\n",
    "        stk2_type INTEGER,\n",
    "        stk2_exp REAL,\n",
    "        stk3 REAL,\n",
    "        stk3_type INTEGER,\n",
    "        stk3_exp REAL,\n",
    "        stk4 REAL,\n",
    "        stk4_type INTEGER,\n",
    "        stk4_exp REAL,\n",
    "        cost REAL,\n",
    "        trdprice REAL,\n",
    "        BRP REAL,\n",
    "        strategy REAL\n",
    "    )\n",
    "\"\"\")"
   ]
  },
  {
   "cell_type": "code",
   "execution_count": 3,
   "metadata": {},
   "outputs": [
    {
     "output_type": "execute_result",
     "data": {
      "text/plain": [
       "<sqlite3.Cursor at 0x1eb58453f80>"
      ]
     },
     "metadata": {},
     "execution_count": 3
    }
   ],
   "source": [
    "# con.execute(\"DROP TABLE TRADE_SUMMARY\")\n",
    "\n",
    "con.execute(\"\"\"\n",
    "    CREATE TABLE TRADE_SUMMARY(\n",
    "        id INTEGER PRIMARY KEY,\n",
    "        entry_date REAL,\n",
    "        exit_date REAL,\n",
    "        trade_length INTEGER,\n",
    "        ticker TEXT,\n",
    "        stk_width REAL,\n",
    "        pnl REAL,\n",
    "        strategy TEXT\n",
    "    )\n",
    "\"\"\")"
   ]
  },
  {
   "cell_type": "code",
   "execution_count": 15,
   "metadata": {},
   "outputs": [
    {
     "output_type": "execute_result",
     "data": {
      "text/plain": [
       "<sqlite3.Cursor at 0x12ed5ad5b20>"
      ]
     },
     "metadata": {},
     "execution_count": 15
    }
   ],
   "source": [
    "con.execute(\"DROP TABLE TRADE_HIST\")\n",
    "\n",
    "con.execute(\"\"\"\n",
    "    CREATE TABLE TRADE_HIST(\n",
    "        id INTEGER PRIMARY KEY,\n",
    "        trade_group_id TEXT,\n",
    "        entry_date REAL,\n",
    "        ticker TEXT,\n",
    "        stk1 REAL,\n",
    "        stk1_type INTEGER,\n",
    "        stk1_exp REAL,\n",
    "        stk2 REAL,\n",
    "        stk2_type INTEGER,\n",
    "        stk2_exp REAL,\n",
    "        stk3 REAL,\n",
    "        stk3_type INTEGER,\n",
    "        stk3_exp REAL,\n",
    "        stk4 REAL,\n",
    "        stk4_type INTEGER,\n",
    "        stk4_exp REAL,\n",
    "        cost REAL,\n",
    "        trdprice REAL,\n",
    "        BRP REAL,\n",
    "        strategy REAL\n",
    "    )\n",
    "\"\"\")"
   ]
  },
  {
   "cell_type": "code",
   "execution_count": 9,
   "metadata": {},
   "outputs": [],
   "source": [
    "def enter(new_entryl):\n",
    "    sql = \"\"\"\n",
    "        INSERT INTO TRADE_MAIN(\n",
    "        trade_group_id, \n",
    "        entry_date,\n",
    "        ticker,\n",
    "        stk1 ,\n",
    "        stk1_type,\n",
    "        stk1_exp,\n",
    "        stk2,\n",
    "        stk2_type,\n",
    "        stk2_exp,\n",
    "        cost,\n",
    "        trdprice,\n",
    "        BRP \n",
    "        ) VALUES (?, julianday(?),?,?,?,julianday(?),?,?,julianday(?),?,?,?)\n",
    "\n",
    "    \"\"\"\n",
    "    with con:\n",
    "        con.executemany(sql,new_entryl)"
   ]
  },
  {
   "cell_type": "code",
   "execution_count": 10,
   "metadata": {},
   "outputs": [],
   "source": [
    "def get_stats(uuid):\n",
    "    data = con.execute(f\"\"\"\n",
    "    SELECT ticker, date(entry_date), sum(trdprice), sum(cost), stk1, stk2 FROM TRADE_MAIN\n",
    "    GROUP BY trade_group_id = '{uuid}'\n",
    "\"\"\")\n",
    "\n",
    "    for i in data:\n",
    "        ticker = i[0]\n",
    "        exp_date = dt.datetime.strptime(i[1], '%Y-%m-%d').date()\n",
    "        dte = (exp_date - dt.date.today()).days\n",
    "        bes = round(i[-1] - i[2],1)\n",
    "        bem = i[2]\n",
    "        bema = round(i[3]/100,2)\n",
    "        m50 = round(i[2]/2,2)\n",
    "        cost = round(i[-3],2)\n",
    "        print(ticker, dte, bes, bem, bema, m50, cost)"
   ]
  },
  {
   "cell_type": "code",
   "execution_count": 11,
   "metadata": {},
   "outputs": [],
   "source": [
    "def create_new_entry(entry_date, ticker, stk1, s1t, s1e, stk2, s2t, s2e, cost, trdprice):\n",
    "    entry = [\n",
    "        (str(uuid.uuid4()), entry_date, ticker, stk1, s1t, s1e, stk2, s2t, s2e, cost, trdprice, (((stk2-stk1)*100)-cost))\n",
    "    ]\n",
    "\n",
    "    return entry"
   ]
  },
  {
   "cell_type": "code",
   "execution_count": 12,
   "metadata": {},
   "outputs": [],
   "source": [
    "def update_trade(uuid, entry_date, ticker, stk1, s1t, s1e, stk2, s2t, s2e, cost, trdprice):\n",
    "    \"\"\"\n",
    "    This function is to help you prepare trade information in the right format for writing to the database\n",
    "    \"\"\"\n",
    "    entry = [\n",
    "    (uuid, entry_date, ticker, stk1, s1t, s1e, stk2, s2t, s2e, cost, trdprice, (((stk2-stk1)*100)-cost))\n",
    "]\n",
    "    return entry"
   ]
  },
  {
   "cell_type": "code",
   "execution_count": null,
   "metadata": {},
   "outputs": [],
   "source": [
    "records = [(1, 'Glen', 8),\n",
    "\t\t\t(2, 'Elliot', 9),\n",
    "\t\t\t(3, 'Bob', 7)]\n"
   ]
  },
  {
   "cell_type": "code",
   "execution_count": null,
   "metadata": {},
   "outputs": [],
   "source": []
  },
  {
   "cell_type": "code",
   "execution_count": 13,
   "metadata": {},
   "outputs": [],
   "source": [
    "def close(close_entry):\n",
    "\n",
    "    uuid = close_entry[0][0]\n",
    "\n",
    "    sql = \"\"\"\n",
    "        INSERT INTO TRADE_MAIN(\n",
    "        trade_group_id, \n",
    "        entry_date,\n",
    "        ticker,\n",
    "        stk1 ,\n",
    "        stk1_type,\n",
    "        stk1_exp,\n",
    "        stk2,\n",
    "        stk2_type,\n",
    "        stk2_exp,\n",
    "        cost,\n",
    "        trdprice,\n",
    "        BRP \n",
    "        ) VALUES (?, julianday(?),?,?,?,julianday(?),?,?,julianday(?),?,?,?)\n",
    "\n",
    "    \"\"\"\n",
    "    with con:\n",
    "        con.executemany(sql,close_entry)\n",
    "\n",
    "    data = con.execute(f\"\"\"\n",
    "    SELECT ticker, max(date(entry_date)), min(date(entry_date)), sum(trdprice), sum(cost), min(stk1), stk2 FROM TRADE_MAIN\n",
    "    WHERE trade_group_id = '{uuid}'\n",
    "    \"\"\")\n",
    "\n",
    "    for i in data:\n",
    "        ticker = i[0]\n",
    "        exit_date = str(i[1])\n",
    "        entry_date = str(i[2])\n",
    "        days_in_trade = (dt.datetime.strptime(exit_date, '%Y-%m-%d').date() - dt.datetime.strptime(entry_date, '%Y-%m-%d').date()).days\n",
    "        pnl = round(i[4],2)\n",
    "        stk_width = i[-1] - i[-2]\n",
    "\n",
    "    update_close = [(entry_date, exit_date, days_in_trade,ticker,stk_width,pnl)]\n",
    "\n",
    "    sql2 = \"\"\"\n",
    "        INSERT INTO TRADE_SUMMARY( \n",
    "        entry_date,\n",
    "        exit_date,\n",
    "        trade_length,\n",
    "        ticker,\n",
    "        stk_width,\n",
    "        pnl\n",
    "        ) VALUES (julianday(?),julianday(?),?,?,?,?)\n",
    "    \"\"\"\n",
    "     \n",
    "    sql3 = f\"\"\"\n",
    "\n",
    "    INSERT INTO TRADE_HIST \n",
    "    SELECT * FROM TRADE_MAIN\n",
    "    WHERE trade_group_id = '{uuid}'\n",
    "\n",
    "    \"\"\"\n",
    "\n",
    "    sql4 = f\"\"\"\n",
    "\n",
    "        DELETE FROM TRADE_MAIN\n",
    "        WHERE trade_group_id = '{uuid}'\n",
    "\n",
    "    \"\"\"\n",
    "\n",
    "    with con:\n",
    "        con.executemany(sql2, update_close)\n",
    "        con.execute(sql3)\n",
    "        con.execute(sql4)"
   ]
  },
  {
   "cell_type": "code",
   "execution_count": 11,
   "metadata": {},
   "outputs": [],
   "source": [
    "entry1 = create_new_entry(\"2021-02-09\", \"AAPL\", 127.5, 0, \"2021-03-19\", 130, 0, \"2021-03-19\", 73.75, 0.80)\n",
    "entry2 = create_new_entry(\"2021-02-03\", \"SQ\", 210, 0, \"2021-03-19\", 212.5, 0, \"2021-03-19\", 78.75, 0.80)"
   ]
  },
  {
   "cell_type": "code",
   "execution_count": 12,
   "metadata": {},
   "outputs": [],
   "source": [
    "enter(entry1)\n",
    "enter(entry2)"
   ]
  },
  {
   "cell_type": "code",
   "execution_count": 15,
   "metadata": {},
   "outputs": [
    {
     "output_type": "stream",
     "name": "stdout",
     "text": [
      "AAPL -67 128.4 1.6 1.52 0.8 152.5\n"
     ]
    }
   ],
   "source": [
    "get_stats('b48e3425-bde7-4485-b1df-d03f1609be5a')"
   ]
  },
  {
   "cell_type": "code",
   "execution_count": 16,
   "metadata": {},
   "outputs": [],
   "source": [
    "roll1 = update_trade('b48e3425-bde7-4485-b1df-d03f1609be5a', \"2021-02-24\", \"AAPL\", 127.5, 0, \"2021-03-26\", 130, 0 , \"2021-03-26\", 34.12, 0.37)\n",
    "roll2 = update_trade('b48e3425-bde7-4485-b1df-d03f1609be5a', \"2021-03-16\", \"AAPL\", 120.0, 0, \"2021-05-21\", 125.0, 0 ,\"2021-05-21\", 7.16, 0.10)\n",
    "roll3 = update_trade('b48e3425-bde7-4485-b1df-d03f1609be5a', \"2021-04-09\", \"AAPL\", 120.0, 0, \"2021-05-21\", 125.0, 0 ,\"2021-05-21\", -110.42, 1.11)"
   ]
  },
  {
   "cell_type": "code",
   "execution_count": 4,
   "metadata": {},
   "outputs": [],
   "source": [
    "data = con.execute(\"\"\"\n",
    "    SELECT * FROM TRADE_MAIN\n",
    "\"\"\")\n",
    "\n",
    "options = []\n",
    "\n",
    "for i in data:\n",
    "    options.append({'label':i[3], 'value':i[1]})"
   ]
  },
  {
   "cell_type": "code",
   "execution_count": 16,
   "metadata": {},
   "outputs": [],
   "source": [
    "def update_trade(uuid, entry_date, ticker, stk1, s1t, s1e, stk2, s2t, s2e, cost, trdprice, strategy):\n",
    "    \"\"\"\n",
    "    This function is to help you prepare trade information in the right format for writing to the database\n",
    "    \"\"\"\n",
    "    entry = [\n",
    "    (uuid, entry_date, ticker, stk1, s1t, s1e, stk2, s2t, s2e, cost, trdprice, (((stk2-stk1)*100)-cost), strategy)\n",
    "]\n",
    "    return entry\n",
    "\n",
    "\n",
    "# function for entering trade\n",
    "def enter(dbcon, new_entryl):\n",
    "    \"\"\"\n",
    "    This function directly enters the information into the database\n",
    "    \"\"\"\n",
    "    sql = \"\"\"\n",
    "        INSERT INTO TRADE_MAIN(\n",
    "        trade_group_id, \n",
    "        entry_date,\n",
    "        ticker,\n",
    "        stk1 ,\n",
    "        stk1_type,\n",
    "        stk1_exp,\n",
    "        stk2,\n",
    "        stk2_type,\n",
    "        stk2_exp,\n",
    "        stk3 ,\n",
    "        stk3_type,\n",
    "        stk3_exp,\n",
    "        stk4,\n",
    "        stk4_type,\n",
    "        stk4_exp,\n",
    "        cost,\n",
    "        trdprice,\n",
    "        BRP,\n",
    "        strategy\n",
    "        ) VALUES (?, julianday(?),?,?,?,julianday(?),?,?,julianday(?),?,?,julianday(?),?,?,julianday(?),?,?,?,?)\n",
    "\n",
    "    \"\"\"\n",
    "    with dbcon:\n",
    "        dbcon.executemany(sql,new_entryl)"
   ]
  },
  {
   "cell_type": "code",
   "execution_count": 34,
   "metadata": {},
   "outputs": [],
   "source": [
    "clean = pd.read_csv(\"opentrades.csv\").drop(\"id\", axis=1)"
   ]
  },
  {
   "cell_type": "code",
   "execution_count": 35,
   "metadata": {},
   "outputs": [],
   "source": [
    "insertion = list(clean.itertuples(index=False, name=None))"
   ]
  },
  {
   "cell_type": "code",
   "execution_count": 36,
   "metadata": {},
   "outputs": [],
   "source": [
    "enter(con, insertion)"
   ]
  },
  {
   "cell_type": "code",
   "execution_count": 6,
   "metadata": {},
   "outputs": [],
   "source": [
    "sql = \"\"\"\n",
    "    INSERT INTO TRADE_SUMMARY( \n",
    "    entry_date,\n",
    "    exit_date,\n",
    "    trade_length,\n",
    "    ticker,\n",
    "    stk_width,\n",
    "    pnl,\n",
    "    strategy\n",
    "    ) VALUES (julianday(?),julianday(?),?,?,?,?,?)\n",
    "\n",
    "\"\"\""
   ]
  },
  {
   "cell_type": "code",
   "execution_count": 7,
   "metadata": {},
   "outputs": [],
   "source": [
    "with con:\n",
    "    con.executemany(sql, insertion)"
   ]
  },
  {
   "cell_type": "code",
   "execution_count": 3,
   "metadata": {},
   "outputs": [],
   "source": [
    "import plotly.express as px\n",
    "import datetime\n",
    "import julian\n",
    "import numpy as np"
   ]
  },
  {
   "cell_type": "code",
   "execution_count": 4,
   "metadata": {},
   "outputs": [],
   "source": [
    "sql  = \"\"\"\n",
    "\n",
    "SELECT julianday(exit_date), pnl FROM TRADE_SUMMARY ORDER BY exit_date\n",
    "\n",
    "\"\"\""
   ]
  },
  {
   "cell_type": "code",
   "execution_count": 5,
   "metadata": {},
   "outputs": [],
   "source": [
    "data = con.execute(sql)\n",
    "\n",
    "dates = []\n",
    "pnl = []\n",
    "\n",
    "for i in data:\n",
    "    dates.append(julian.from_jd(i[0], fmt='jd').date())\n",
    "    pnl.append(i[1])"
   ]
  },
  {
   "cell_type": "code",
   "execution_count": 70,
   "metadata": {},
   "outputs": [],
   "source": [
    "data2 = con.execute(f\"\"\"\n",
    "    SELECT ticker, date(entry_date), sum(trdprice), sum(cost), stk1, stk2, stk3, stk4, stk1_type FROM TRADE_MAIN\n",
    "    GROUP BY trade_group_id\n",
    "\"\"\")\n",
    "\n",
    "ticker = []\n",
    "start_date = []\n",
    "be_price = []\n",
    "cost = []\n",
    "stk1 = []\n",
    "stk2 = []\n",
    "stk3 = []\n",
    "stk4 = []\n",
    "be50 = []\n",
    "\n",
    "for i in data2:\n",
    "    ticker.append(i[0])\n",
    "    start_date.append(i[1])\n",
    "    cost.append(round(i[3]/100,2))\n",
    "    be50.append(round(i[3]/100/2,2))\n",
    "    stk1.append(i[4])\n",
    "    stk2.append(i[5])\n",
    "    stk3.append(i[6])\n",
    "    stk4.append(i[7])\n",
    "    if (i[6] == None) and (i[8] == 1) and (i[5] != None):\n",
    "        be_price.append(round((min(i[4], i[5])-i[3]/100),2))\n",
    "    elif (i[6] == None) and (i[5] == None) and (i[8] == 0):\n",
    "        be_price.append(round(i[4]-i[3]/100,2))\n",
    "    elif (i[6] == None) and (i[5] == None) and (i[8] == 1):\n",
    "        be_price.append(round(i[4]-i[3]/100,2))\n",
    "    elif (i[6] == None) and (i[8] == 0) and (i[5] != None):\n",
    "        be_price.append(round((max(i[4], i[5])-i[3]/100),2))\n",
    "    elif (i[6] != None):\n",
    "        be_price.append(str(round((max(i[4], i[5])-i[3]/100),2))+\", \"+str(round((min(i[6], i[7])-i[3]/100),2)))\n",
    "    else:\n",
    "        be_price.append(i[8])\n",
    "\n",
    "trade_overview = pd.DataFrame({\n",
    "    \"ticker\": ticker,\n",
    "    \"date\": start_date,\n",
    "    \"Breakeven\" : cost,\n",
    "    \"Breakeven 50\" : be50,\n",
    "    # \"Strike 1\" : stk1,\n",
    "    # \"Strike 2\" : stk2,\n",
    "    \"Breakeven Stock Price\" : be_price\n",
    "})"
   ]
  },
  {
   "cell_type": "code",
   "execution_count": 71,
   "metadata": {},
   "outputs": [
    {
     "output_type": "execute_result",
     "data": {
      "text/plain": [
       "  ticker        date  Breakeven  Breakeven 50 Breakeven Stock Price\n",
       "0   RIDE  2021-04-19       1.32          0.66                  7.68\n",
       "1    JPM  2021-03-29       1.24          0.62                143.76\n",
       "2    DIS  2021-03-29       1.31          0.66                173.69\n",
       "3    QQQ  2021-03-09       0.36          0.18                339.64\n",
       "4    NOK  2021-01-27      -1.51         -0.76                 11.51\n",
       "5     QS  2021-04-07       1.26          0.63                 38.74\n",
       "6   PINS  2021-04-26       1.30          0.65            63.7, 83.7\n",
       "7   ARKF  2021-03-09     -15.18         -7.59                 60.18\n",
       "8    AMD  2020-10-12     -17.56         -8.78                 97.56"
      ],
      "text/html": "<div>\n<style scoped>\n    .dataframe tbody tr th:only-of-type {\n        vertical-align: middle;\n    }\n\n    .dataframe tbody tr th {\n        vertical-align: top;\n    }\n\n    .dataframe thead th {\n        text-align: right;\n    }\n</style>\n<table border=\"1\" class=\"dataframe\">\n  <thead>\n    <tr style=\"text-align: right;\">\n      <th></th>\n      <th>ticker</th>\n      <th>date</th>\n      <th>Breakeven</th>\n      <th>Breakeven 50</th>\n      <th>Breakeven Stock Price</th>\n    </tr>\n  </thead>\n  <tbody>\n    <tr>\n      <th>0</th>\n      <td>RIDE</td>\n      <td>2021-04-19</td>\n      <td>1.32</td>\n      <td>0.66</td>\n      <td>7.68</td>\n    </tr>\n    <tr>\n      <th>1</th>\n      <td>JPM</td>\n      <td>2021-03-29</td>\n      <td>1.24</td>\n      <td>0.62</td>\n      <td>143.76</td>\n    </tr>\n    <tr>\n      <th>2</th>\n      <td>DIS</td>\n      <td>2021-03-29</td>\n      <td>1.31</td>\n      <td>0.66</td>\n      <td>173.69</td>\n    </tr>\n    <tr>\n      <th>3</th>\n      <td>QQQ</td>\n      <td>2021-03-09</td>\n      <td>0.36</td>\n      <td>0.18</td>\n      <td>339.64</td>\n    </tr>\n    <tr>\n      <th>4</th>\n      <td>NOK</td>\n      <td>2021-01-27</td>\n      <td>-1.51</td>\n      <td>-0.76</td>\n      <td>11.51</td>\n    </tr>\n    <tr>\n      <th>5</th>\n      <td>QS</td>\n      <td>2021-04-07</td>\n      <td>1.26</td>\n      <td>0.63</td>\n      <td>38.74</td>\n    </tr>\n    <tr>\n      <th>6</th>\n      <td>PINS</td>\n      <td>2021-04-26</td>\n      <td>1.30</td>\n      <td>0.65</td>\n      <td>63.7, 83.7</td>\n    </tr>\n    <tr>\n      <th>7</th>\n      <td>ARKF</td>\n      <td>2021-03-09</td>\n      <td>-15.18</td>\n      <td>-7.59</td>\n      <td>60.18</td>\n    </tr>\n    <tr>\n      <th>8</th>\n      <td>AMD</td>\n      <td>2020-10-12</td>\n      <td>-17.56</td>\n      <td>-8.78</td>\n      <td>97.56</td>\n    </tr>\n  </tbody>\n</table>\n</div>"
     },
     "metadata": {},
     "execution_count": 71
    }
   ],
   "source": [
    "be_price\n",
    "\n",
    "trade_overview"
   ]
  },
  {
   "cell_type": "code",
   "execution_count": 73,
   "metadata": {},
   "outputs": [],
   "source": [
    "sql = \"UPDATE TRADE_MAIN SET stk2_type = REPLACE(stk2_type,'P',0)\"\n",
    "\n",
    "with con:\n",
    "    con.execute(sql)"
   ]
  },
  {
   "cell_type": "code",
   "execution_count": 9,
   "metadata": {},
   "outputs": [
    {
     "output_type": "display_data",
     "data": {
      "application/vnd.plotly.v1+json": {
       "config": {
        "plotlyServerURL": "https://plot.ly"
       },
       "data": [
        {
         "hovertemplate": "Date=%{x}<br>PnL=%{y}<extra></extra>",
         "legendgroup": "",
         "line": {
          "color": "#636efa",
          "dash": "solid"
         },
         "mode": "lines",
         "name": "",
         "orientation": "v",
         "showlegend": false,
         "type": "scatter",
         "x": [
          "2020-09-30",
          "2020-10-15",
          "2020-10-21",
          "2020-10-23",
          "2020-10-27",
          "2020-10-30",
          "2020-11-04",
          "2020-11-16",
          "2020-11-16",
          "2020-11-18",
          "2020-11-19",
          "2020-12-07",
          "2020-12-10",
          "2020-12-23",
          "2021-01-25",
          "2021-01-27",
          "2021-02-02",
          "2021-02-04",
          "2021-02-04",
          "2021-02-08",
          "2021-02-09",
          "2021-02-17",
          "2021-03-01",
          "2021-03-09",
          "2021-03-09",
          "2021-03-10",
          "2021-03-11",
          "2021-03-18",
          "2021-03-29",
          "2021-04-05",
          "2021-04-09",
          "2021-04-13",
          "2021-04-21",
          "2021-04-23"
         ],
         "xaxis": "x",
         "y": [
          1.7,
          -105.58,
          -119.00999999999999,
          -108.88999999999999,
          -130.32,
          -115.00999999999999,
          -103.21,
          -90.63,
          -86.35,
          -39.529999999999994,
          -177.42,
          -161.83999999999997,
          -71.83999999999997,
          21.29000000000002,
          116.69000000000003,
          221.96000000000004,
          292.11,
          190.51000000000002,
          252.66000000000003,
          319.81000000000006,
          562.2,
          615.62,
          706.77,
          428.90999999999997,
          530.3299999999999,
          559.6199999999999,
          651.7699999999999,
          291.90999999999985,
          423.0699999999998,
          518.5299999999999,
          522.9599999999998,
          535.8599999999998,
          634.0099999999998,
          689.3299999999998
         ],
         "yaxis": "y"
        }
       ],
       "layout": {
        "legend": {
         "tracegroupgap": 0
        },
        "margin": {
         "t": 60
        },
        "template": {
         "data": {
          "bar": [
           {
            "error_x": {
             "color": "#f2f5fa"
            },
            "error_y": {
             "color": "#f2f5fa"
            },
            "marker": {
             "line": {
              "color": "rgb(17,17,17)",
              "width": 0.5
             }
            },
            "type": "bar"
           }
          ],
          "barpolar": [
           {
            "marker": {
             "line": {
              "color": "rgb(17,17,17)",
              "width": 0.5
             }
            },
            "type": "barpolar"
           }
          ],
          "carpet": [
           {
            "aaxis": {
             "endlinecolor": "#A2B1C6",
             "gridcolor": "#506784",
             "linecolor": "#506784",
             "minorgridcolor": "#506784",
             "startlinecolor": "#A2B1C6"
            },
            "baxis": {
             "endlinecolor": "#A2B1C6",
             "gridcolor": "#506784",
             "linecolor": "#506784",
             "minorgridcolor": "#506784",
             "startlinecolor": "#A2B1C6"
            },
            "type": "carpet"
           }
          ],
          "choropleth": [
           {
            "colorbar": {
             "outlinewidth": 0,
             "ticks": ""
            },
            "type": "choropleth"
           }
          ],
          "contour": [
           {
            "colorbar": {
             "outlinewidth": 0,
             "ticks": ""
            },
            "colorscale": [
             [
              0,
              "#0d0887"
             ],
             [
              0.1111111111111111,
              "#46039f"
             ],
             [
              0.2222222222222222,
              "#7201a8"
             ],
             [
              0.3333333333333333,
              "#9c179e"
             ],
             [
              0.4444444444444444,
              "#bd3786"
             ],
             [
              0.5555555555555556,
              "#d8576b"
             ],
             [
              0.6666666666666666,
              "#ed7953"
             ],
             [
              0.7777777777777778,
              "#fb9f3a"
             ],
             [
              0.8888888888888888,
              "#fdca26"
             ],
             [
              1,
              "#f0f921"
             ]
            ],
            "type": "contour"
           }
          ],
          "contourcarpet": [
           {
            "colorbar": {
             "outlinewidth": 0,
             "ticks": ""
            },
            "type": "contourcarpet"
           }
          ],
          "heatmap": [
           {
            "colorbar": {
             "outlinewidth": 0,
             "ticks": ""
            },
            "colorscale": [
             [
              0,
              "#0d0887"
             ],
             [
              0.1111111111111111,
              "#46039f"
             ],
             [
              0.2222222222222222,
              "#7201a8"
             ],
             [
              0.3333333333333333,
              "#9c179e"
             ],
             [
              0.4444444444444444,
              "#bd3786"
             ],
             [
              0.5555555555555556,
              "#d8576b"
             ],
             [
              0.6666666666666666,
              "#ed7953"
             ],
             [
              0.7777777777777778,
              "#fb9f3a"
             ],
             [
              0.8888888888888888,
              "#fdca26"
             ],
             [
              1,
              "#f0f921"
             ]
            ],
            "type": "heatmap"
           }
          ],
          "heatmapgl": [
           {
            "colorbar": {
             "outlinewidth": 0,
             "ticks": ""
            },
            "colorscale": [
             [
              0,
              "#0d0887"
             ],
             [
              0.1111111111111111,
              "#46039f"
             ],
             [
              0.2222222222222222,
              "#7201a8"
             ],
             [
              0.3333333333333333,
              "#9c179e"
             ],
             [
              0.4444444444444444,
              "#bd3786"
             ],
             [
              0.5555555555555556,
              "#d8576b"
             ],
             [
              0.6666666666666666,
              "#ed7953"
             ],
             [
              0.7777777777777778,
              "#fb9f3a"
             ],
             [
              0.8888888888888888,
              "#fdca26"
             ],
             [
              1,
              "#f0f921"
             ]
            ],
            "type": "heatmapgl"
           }
          ],
          "histogram": [
           {
            "marker": {
             "colorbar": {
              "outlinewidth": 0,
              "ticks": ""
             }
            },
            "type": "histogram"
           }
          ],
          "histogram2d": [
           {
            "colorbar": {
             "outlinewidth": 0,
             "ticks": ""
            },
            "colorscale": [
             [
              0,
              "#0d0887"
             ],
             [
              0.1111111111111111,
              "#46039f"
             ],
             [
              0.2222222222222222,
              "#7201a8"
             ],
             [
              0.3333333333333333,
              "#9c179e"
             ],
             [
              0.4444444444444444,
              "#bd3786"
             ],
             [
              0.5555555555555556,
              "#d8576b"
             ],
             [
              0.6666666666666666,
              "#ed7953"
             ],
             [
              0.7777777777777778,
              "#fb9f3a"
             ],
             [
              0.8888888888888888,
              "#fdca26"
             ],
             [
              1,
              "#f0f921"
             ]
            ],
            "type": "histogram2d"
           }
          ],
          "histogram2dcontour": [
           {
            "colorbar": {
             "outlinewidth": 0,
             "ticks": ""
            },
            "colorscale": [
             [
              0,
              "#0d0887"
             ],
             [
              0.1111111111111111,
              "#46039f"
             ],
             [
              0.2222222222222222,
              "#7201a8"
             ],
             [
              0.3333333333333333,
              "#9c179e"
             ],
             [
              0.4444444444444444,
              "#bd3786"
             ],
             [
              0.5555555555555556,
              "#d8576b"
             ],
             [
              0.6666666666666666,
              "#ed7953"
             ],
             [
              0.7777777777777778,
              "#fb9f3a"
             ],
             [
              0.8888888888888888,
              "#fdca26"
             ],
             [
              1,
              "#f0f921"
             ]
            ],
            "type": "histogram2dcontour"
           }
          ],
          "mesh3d": [
           {
            "colorbar": {
             "outlinewidth": 0,
             "ticks": ""
            },
            "type": "mesh3d"
           }
          ],
          "parcoords": [
           {
            "line": {
             "colorbar": {
              "outlinewidth": 0,
              "ticks": ""
             }
            },
            "type": "parcoords"
           }
          ],
          "pie": [
           {
            "automargin": true,
            "type": "pie"
           }
          ],
          "scatter": [
           {
            "marker": {
             "line": {
              "color": "#283442"
             }
            },
            "type": "scatter"
           }
          ],
          "scatter3d": [
           {
            "line": {
             "colorbar": {
              "outlinewidth": 0,
              "ticks": ""
             }
            },
            "marker": {
             "colorbar": {
              "outlinewidth": 0,
              "ticks": ""
             }
            },
            "type": "scatter3d"
           }
          ],
          "scattercarpet": [
           {
            "marker": {
             "colorbar": {
              "outlinewidth": 0,
              "ticks": ""
             }
            },
            "type": "scattercarpet"
           }
          ],
          "scattergeo": [
           {
            "marker": {
             "colorbar": {
              "outlinewidth": 0,
              "ticks": ""
             }
            },
            "type": "scattergeo"
           }
          ],
          "scattergl": [
           {
            "marker": {
             "line": {
              "color": "#283442"
             }
            },
            "type": "scattergl"
           }
          ],
          "scattermapbox": [
           {
            "marker": {
             "colorbar": {
              "outlinewidth": 0,
              "ticks": ""
             }
            },
            "type": "scattermapbox"
           }
          ],
          "scatterpolar": [
           {
            "marker": {
             "colorbar": {
              "outlinewidth": 0,
              "ticks": ""
             }
            },
            "type": "scatterpolar"
           }
          ],
          "scatterpolargl": [
           {
            "marker": {
             "colorbar": {
              "outlinewidth": 0,
              "ticks": ""
             }
            },
            "type": "scatterpolargl"
           }
          ],
          "scatterternary": [
           {
            "marker": {
             "colorbar": {
              "outlinewidth": 0,
              "ticks": ""
             }
            },
            "type": "scatterternary"
           }
          ],
          "surface": [
           {
            "colorbar": {
             "outlinewidth": 0,
             "ticks": ""
            },
            "colorscale": [
             [
              0,
              "#0d0887"
             ],
             [
              0.1111111111111111,
              "#46039f"
             ],
             [
              0.2222222222222222,
              "#7201a8"
             ],
             [
              0.3333333333333333,
              "#9c179e"
             ],
             [
              0.4444444444444444,
              "#bd3786"
             ],
             [
              0.5555555555555556,
              "#d8576b"
             ],
             [
              0.6666666666666666,
              "#ed7953"
             ],
             [
              0.7777777777777778,
              "#fb9f3a"
             ],
             [
              0.8888888888888888,
              "#fdca26"
             ],
             [
              1,
              "#f0f921"
             ]
            ],
            "type": "surface"
           }
          ],
          "table": [
           {
            "cells": {
             "fill": {
              "color": "#506784"
             },
             "line": {
              "color": "rgb(17,17,17)"
             }
            },
            "header": {
             "fill": {
              "color": "#2a3f5f"
             },
             "line": {
              "color": "rgb(17,17,17)"
             }
            },
            "type": "table"
           }
          ]
         },
         "layout": {
          "annotationdefaults": {
           "arrowcolor": "#f2f5fa",
           "arrowhead": 0,
           "arrowwidth": 1
          },
          "autotypenumbers": "strict",
          "coloraxis": {
           "colorbar": {
            "outlinewidth": 0,
            "ticks": ""
           }
          },
          "colorscale": {
           "diverging": [
            [
             0,
             "#8e0152"
            ],
            [
             0.1,
             "#c51b7d"
            ],
            [
             0.2,
             "#de77ae"
            ],
            [
             0.3,
             "#f1b6da"
            ],
            [
             0.4,
             "#fde0ef"
            ],
            [
             0.5,
             "#f7f7f7"
            ],
            [
             0.6,
             "#e6f5d0"
            ],
            [
             0.7,
             "#b8e186"
            ],
            [
             0.8,
             "#7fbc41"
            ],
            [
             0.9,
             "#4d9221"
            ],
            [
             1,
             "#276419"
            ]
           ],
           "sequential": [
            [
             0,
             "#0d0887"
            ],
            [
             0.1111111111111111,
             "#46039f"
            ],
            [
             0.2222222222222222,
             "#7201a8"
            ],
            [
             0.3333333333333333,
             "#9c179e"
            ],
            [
             0.4444444444444444,
             "#bd3786"
            ],
            [
             0.5555555555555556,
             "#d8576b"
            ],
            [
             0.6666666666666666,
             "#ed7953"
            ],
            [
             0.7777777777777778,
             "#fb9f3a"
            ],
            [
             0.8888888888888888,
             "#fdca26"
            ],
            [
             1,
             "#f0f921"
            ]
           ],
           "sequentialminus": [
            [
             0,
             "#0d0887"
            ],
            [
             0.1111111111111111,
             "#46039f"
            ],
            [
             0.2222222222222222,
             "#7201a8"
            ],
            [
             0.3333333333333333,
             "#9c179e"
            ],
            [
             0.4444444444444444,
             "#bd3786"
            ],
            [
             0.5555555555555556,
             "#d8576b"
            ],
            [
             0.6666666666666666,
             "#ed7953"
            ],
            [
             0.7777777777777778,
             "#fb9f3a"
            ],
            [
             0.8888888888888888,
             "#fdca26"
            ],
            [
             1,
             "#f0f921"
            ]
           ]
          },
          "colorway": [
           "#636efa",
           "#EF553B",
           "#00cc96",
           "#ab63fa",
           "#FFA15A",
           "#19d3f3",
           "#FF6692",
           "#B6E880",
           "#FF97FF",
           "#FECB52"
          ],
          "font": {
           "color": "#f2f5fa"
          },
          "geo": {
           "bgcolor": "rgb(17,17,17)",
           "lakecolor": "rgb(17,17,17)",
           "landcolor": "rgb(17,17,17)",
           "showlakes": true,
           "showland": true,
           "subunitcolor": "#506784"
          },
          "hoverlabel": {
           "align": "left"
          },
          "hovermode": "closest",
          "mapbox": {
           "style": "dark"
          },
          "paper_bgcolor": "rgb(17,17,17)",
          "plot_bgcolor": "rgb(17,17,17)",
          "polar": {
           "angularaxis": {
            "gridcolor": "#506784",
            "linecolor": "#506784",
            "ticks": ""
           },
           "bgcolor": "rgb(17,17,17)",
           "radialaxis": {
            "gridcolor": "#506784",
            "linecolor": "#506784",
            "ticks": ""
           }
          },
          "scene": {
           "xaxis": {
            "backgroundcolor": "rgb(17,17,17)",
            "gridcolor": "#506784",
            "gridwidth": 2,
            "linecolor": "#506784",
            "showbackground": true,
            "ticks": "",
            "zerolinecolor": "#C8D4E3"
           },
           "yaxis": {
            "backgroundcolor": "rgb(17,17,17)",
            "gridcolor": "#506784",
            "gridwidth": 2,
            "linecolor": "#506784",
            "showbackground": true,
            "ticks": "",
            "zerolinecolor": "#C8D4E3"
           },
           "zaxis": {
            "backgroundcolor": "rgb(17,17,17)",
            "gridcolor": "#506784",
            "gridwidth": 2,
            "linecolor": "#506784",
            "showbackground": true,
            "ticks": "",
            "zerolinecolor": "#C8D4E3"
           }
          },
          "shapedefaults": {
           "line": {
            "color": "#f2f5fa"
           }
          },
          "sliderdefaults": {
           "bgcolor": "#C8D4E3",
           "bordercolor": "rgb(17,17,17)",
           "borderwidth": 1,
           "tickwidth": 0
          },
          "ternary": {
           "aaxis": {
            "gridcolor": "#506784",
            "linecolor": "#506784",
            "ticks": ""
           },
           "baxis": {
            "gridcolor": "#506784",
            "linecolor": "#506784",
            "ticks": ""
           },
           "bgcolor": "rgb(17,17,17)",
           "caxis": {
            "gridcolor": "#506784",
            "linecolor": "#506784",
            "ticks": ""
           }
          },
          "title": {
           "x": 0.05
          },
          "updatemenudefaults": {
           "bgcolor": "#506784",
           "borderwidth": 0
          },
          "xaxis": {
           "automargin": true,
           "gridcolor": "#283442",
           "linecolor": "#506784",
           "ticks": "",
           "title": {
            "standoff": 15
           },
           "zerolinecolor": "#283442",
           "zerolinewidth": 2
          },
          "yaxis": {
           "automargin": true,
           "gridcolor": "#283442",
           "linecolor": "#506784",
           "ticks": "",
           "title": {
            "standoff": 15
           },
           "zerolinecolor": "#283442",
           "zerolinewidth": 2
          }
         }
        },
        "xaxis": {
         "anchor": "y",
         "domain": [
          0,
          1
         ],
         "title": {
          "text": "Date"
         }
        },
        "yaxis": {
         "anchor": "x",
         "domain": [
          0,
          1
         ],
         "title": {
          "text": "PnL"
         }
        }
       }
      }
     },
     "metadata": {}
    }
   ],
   "source": [
    "px.line(x=dates, y=np.cumsum(pnl), \n",
    "labels={\"x\" : \"Date\", \"y\" : \"PnL\"}, template=\"plotly_dark\")"
   ]
  },
  {
   "cell_type": "code",
   "execution_count": null,
   "metadata": {},
   "outputs": [],
   "source": []
  }
 ]
}